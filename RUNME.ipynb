{
 "cells": [
  {
   "cell_type": "markdown",
   "metadata": {},
   "source": [
    "# PaperMill - Data Preprocessing\n",
    "This notebook contains all the necessary scripts used to clean the data used in PaperMill.\n",
    "Initially, the data is broken into smaller chunks for easier manipulation during analysis. During this process, the dataset is also divided into two subsets: Relationship and Detail (RD) and Textual Content.\n",
    "The RD data is then recombined for use in Neo4j.\n",
    "The Textual Content is cleaned for use in the recommender system. It is divided into a list of the paper IDs and text data and then recombined.\n",
    "Finally, the text data is used to generate a similarity matrix, the basis for the recommender system.\n",
    "<br>\n",
    "<br>\n",
    "To begin, the DBLP dataset can be downloaded [here](https://lfs.aminer.cn/misc/dblp.v11.zip)\n",
    "\n",
    "<br>\n",
    "\n",
    "## Splitting the Dataset\n",
    "To begin, the dataset is split into the RD dataset and the Textual Content dataset. The RD data is converted to CSV format, while the Textual Content remains as JSON.\n",
    "The \"split_dataset\" function takes four parameters:\n",
    "1. file (string): Directory location of the dataset\n",
    "2. numRows (integer): Number of rows within the dataset\n",
    "3. splits (integer): Number of times to split the dataset\n",
    "4. output (string): Directroy location of the output files\n",
    "5. badIDs (list of strings): List of the corrupted entries identified in the dataset"
   ]
  },
  {
   "cell_type": "code",
   "execution_count": 1,
   "metadata": {},
   "outputs": [
    {
     "name": "stdout",
     "output_type": "stream",
     "text": [
      "2020-05-19 22:08:33.679499: Splitting initiated.\n",
      "Bad ID caught: 133370419.\n",
      "Bad ID caught: 1978543128.\n",
      "Bad ID caught: 1995561360.\n",
      "2020-05-19 22:25:13.586526: Split 1 complete.\n",
      "Bad ID caught: 2015718743.\n",
      "2020-05-19 22:44:22.555079: Split 2 complete.\n",
      "Bad ID caught: 2114368344.\n",
      "Bad ID caught: 2124878095.\n",
      "Bad ID caught: 2143245624.\n",
      "Bad ID caught: 2171998353.\n",
      "Bad ID caught: 2265330953.\n",
      "Bad ID caught: 2344857557.\n",
      "2020-05-19 23:01:18.114908: Split 3 complete.\n",
      "Bad ID caught: 2405346676.\n",
      "2020-05-19 23:17:24.058636: Split 4 complete.\n",
      "2020-05-19 23:17:24.058636: Dataset split.\n"
     ]
    }
   ],
   "source": [
    "from utils.split import split_dataset\n",
    "\n",
    "fileName = \"dataset/DBLP_V11.json\"\n",
    "outputDir = \"dataset/split/\"\n",
    "badIDs = [\"133370419\",\"1978543128\",\"1995561360\",\"2015718743\",\"2114368344\",\"2124878095\",\"2143245624\",\"2171998353\",\"2344857557\",\"2405346676\", \"2265330953\"]\n",
    "\n",
    "split_dataset(fileName, 4107340, 4, outputDir, badIDs)"
   ]
  },
  {
   "cell_type": "markdown",
   "metadata": {},
   "source": [
    "## Merging the RD Dataset\n",
    "The RD dataset is then recombined using the \"merge_csvs\" function. This function takes six parameters:\n",
    "1. inputDir (string): Location of the split data\n",
    "2. outputDir (string): Location for the output file\n",
    "3. prefix (string): Prefix which points towards the correct data type\n",
    "4. outputFileName (string): Name of the outputted file\n",
    "5. splits (integer): Number of files the input data has been split into\n",
    "6. headers (boolean): Whether the split files have headers or not (default is True)"
   ]
  },
  {
   "cell_type": "code",
   "execution_count": 2,
   "metadata": {},
   "outputs": [
    {
     "name": "stdout",
     "output_type": "stream",
     "text": [
      "2020-05-19 23:17:24.138171: Merge initiated.\n",
      "2020-05-19 23:17:56.714468: dataset/split/Split_DBLP_RD_1.csv merged.\n",
      "2020-05-19 23:18:27.427985: dataset/split/Split_DBLP_RD_2.csv merged.\n",
      "2020-05-19 23:18:49.190480: dataset/split/Split_DBLP_RD_3.csv merged.\n",
      "2020-05-19 23:18:55.593067: dataset/split/Split_DBLP_RD_4.csv merged.\n",
      "2020-05-19 23:18:55.633567: DBLP_RD.csv successfully merged.\n"
     ]
    }
   ],
   "source": [
    "from utils.merge import merge_csvs\n",
    "\n",
    "inputDir = \"dataset/split/\"\n",
    "outputDir = \"dataset/neo4j/\"\n",
    "prefix = \"Split_DBLP_RD_\"\n",
    "outputFileName = \"DBLP_RD\"\n",
    "\n",
    "merge_csvs(inputDir, outputDir, prefix, outputFileName, 4)"
   ]
  },
  {
   "cell_type": "markdown",
   "metadata": {},
   "source": [
    "## Cleaning and Formatting the Textual Content\n",
    "The text data needs to be cleaned for use in the recommender system. This is carried out by the \"text_preprocessing\" function, which takes three parameters:\n",
    "1. inputDir (string): Location of the split textual content dataset\n",
    "2. outputDir (string): Location for the cleaned file\n",
    "3. splits (integer): Number of times the original DBLP dataset was split"
   ]
  },
  {
   "cell_type": "code",
   "execution_count": 1,
   "metadata": {},
   "outputs": [
    {
     "name": "stderr",
     "output_type": "stream",
     "text": [
      "[nltk_data] Downloading package stopwords to\n",
      "[nltk_data]     C:\\Users\\ronan\\AppData\\Roaming\\nltk_data...\n",
      "[nltk_data]   Package stopwords is already up-to-date!\n"
     ]
    },
    {
     "name": "stdout",
     "output_type": "stream",
     "text": [
      "2020-05-21 13:06:49.193250: Text preprocessing initiated.\n",
      "2020-05-21 14:46:41.399806: File 1 cleaned.\n",
      "2020-05-21 16:20:24.717190: File 2 cleaned.\n",
      "2020-05-21 17:56:29.432399: File 3 cleaned.\n",
      "2020-05-21 19:38:52.949639: File 4 cleaned.\n",
      "2020-05-21 19:38:52.951649: Text preprocessing completed.\n"
     ]
    }
   ],
   "source": [
    "from utils.recommender import text_preprocessing\n",
    "\n",
    "inputDir = \"dataset/split/\"\n",
    "outputDir = \"src/static/data/\"\n",
    "\n",
    "text_preprocessing(inputDir, outputDir, 4)"
   ]
  },
  {
   "cell_type": "markdown",
   "metadata": {},
   "source": [
    "## Generating Recommender System Framework\n",
    "The final step is to create the framework for the recommender system. This process is carried out when the \"generate_recommender\" function is called, which takes seven parameters.\n",
    "1. textFile (string): Location of the specified text file used in dictionary generation\n",
    "2. outputDir (string): Location to save recommender parts\n",
    "3. weighting (string): SMART-IRS TF-IDF weighting, default is ntc\n",
    "4. dictExists (boolean): Whether the Gensim dictionary exists already, default is False\n",
    "5. corpusExists (boolean): Whether the Gensim corpus exists already, default is False\n",
    "6. tfidfExists (boolean): Whether the Gensim TF-IDF model exists already, default is False\n",
    "7. createSimMatrix (boolean): Whether to create a disk based version of the similarity matrix, default is true\n",
    "\n",
    "For more information on the createSimMatrix parameter, please refer to the README file of this project."
   ]
  },
  {
   "cell_type": "code",
   "execution_count": 2,
   "metadata": {
    "scrolled": true
   },
   "outputs": [
    {
     "name": "stdout",
     "output_type": "stream",
     "text": [
      "2020-05-21 19:38:53.041660: Recommender generation initiated.\n",
      "Dictionary created and stored at: src/static/data/DBLP_Dictionary.dict\n",
      "2020-05-21 19:59:12.254792: Dictionary generated.\n",
      "Corpus created and stored at: src/static/data/DBLP_Corpus.mm\n",
      "2020-05-21 20:31:18.528077: Corpus generated.\n",
      "TF-IDF model created and stored at: src/static/data/TF-IDF\n",
      "2020-05-21 20:32:22.168184: TF-IDF model generated.\n",
      "Similarity matrix created and stored at: src/static/data/Index\n",
      "2020-05-21 21:17:37.547745: Simialrity matrix generated.\n",
      "2020-05-21 21:17:37.547745: Recommender generation completed.\n"
     ]
    }
   ],
   "source": [
    "from utils.recommender import generate_recommender\n",
    "\n",
    "textFile = \"dataset/recommender/Text.csv\"\n",
    "outputDir = \"src/static/data/\"\n",
    "\n",
    "generate_recommender(textFile, outputDir, weighting=\"ntc\", dictExists=False, corpusExists=False, \n",
    "                     tfidfExists=False, createSimMatrix=True)"
   ]
  },
  {
   "cell_type": "code",
   "execution_count": null,
   "metadata": {},
   "outputs": [],
   "source": []
  }
 ],
 "metadata": {
  "kernelspec": {
   "display_name": "Python 3",
   "language": "python",
   "name": "python3"
  },
  "language_info": {
   "codemirror_mode": {
    "name": "ipython",
    "version": 3
   },
   "file_extension": ".py",
   "mimetype": "text/x-python",
   "name": "python",
   "nbconvert_exporter": "python",
   "pygments_lexer": "ipython3",
   "version": "3.7.3"
  }
 },
 "nbformat": 4,
 "nbformat_minor": 2
}
